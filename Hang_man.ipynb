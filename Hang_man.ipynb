{
 "cells": [
  {
   "cell_type": "code",
   "execution_count": 12,
   "metadata": {},
   "outputs": [
    {
     "name": "stdout",
     "output_type": "stream",
     "text": [
      "Your word is _ _ _ _ _ _ _  and has 7 letters\n"
     ]
    },
    {
     "data": {
      "text/plain": [
       "'Mendoza'"
      ]
     },
     "execution_count": 12,
     "metadata": {},
     "output_type": "execute_result"
    }
   ],
   "source": [
    "def hang_man():\n",
    "    import random          \n",
    "    words_to_guess = [\"Messi\", \"Gato\", \"Pelota\", \"Empanada\", \"Pizza\", \"Vinos\", \"Mendoza\"]\n",
    "    hangman_word = random.choice(words_to_guess)\n",
    "    lenght = len(hangman_word)\n",
    "    display = \"_ \"\n",
    "    letters = display * lenght\n",
    "    print(f\"Your word is {letters} and has {lenght} letters\")\n",
    "    return hangman_word\n",
    "hang_man()\n",
    "\n"
   ]
  },
  {
   "cell_type": "code",
   "execution_count": 2,
   "metadata": {},
   "outputs": [
    {
     "name": "stdout",
     "output_type": "stream",
     "text": [
      "Hello, please tell us your name\n",
      "Welcome Frank\n",
      "Do you want to play de hang man?\n",
      "SORRY TRY ANOTHER ANSWER\n"
     ]
    }
   ],
   "source": [
    "print(\"Hello, please tell us your name\")\n",
    "name = input(\"Enter your name\")\n",
    "\n",
    "if name.isalpha() == True and len(name) <= 25:\n",
    "    print(f\"Welcome {name}\")\n",
    "    print(\"Do you want to play de hang man?\")\n",
    "    answer = input(\"Yes = 'Y' or No 'N' ?\").lower()\n",
    "    if answer == \"y\" and len(answer) == 1:\n",
    "       print(\"WELCOME TO HANG MAN\")\n",
    "       hang_man()\n",
    "    else:\n",
    "        print(\"SORRY TRY ANOTHER ANSWER\")\n",
    "    "
   ]
  },
  {
   "cell_type": "markdown",
   "metadata": {},
   "source": [
    "Crear una funcion en la que el parametro se analice para crear el bucle en el que se adivine la palabra, es decir como el valor de retorno de la funcion de hangman es la palabra, a esa palabra la metere dentro de una funcion de la que se va a encargar de revisar una a una la palabra seleccionada y se hara el bucle de la adivinanza, hay que tener en consideracion que debo crear un contador para que no supere el numero de intentos."
   ]
  }
 ],
 "metadata": {
  "kernelspec": {
   "display_name": "Python 3.10.2 64-bit",
   "language": "python",
   "name": "python3"
  },
  "language_info": {
   "codemirror_mode": {
    "name": "ipython",
    "version": 3
   },
   "file_extension": ".py",
   "mimetype": "text/x-python",
   "name": "python",
   "nbconvert_exporter": "python",
   "pygments_lexer": "ipython3",
   "version": "3.10.2"
  },
  "orig_nbformat": 4,
  "vscode": {
   "interpreter": {
    "hash": "94421b500f930f60e980ced47fff81b79d1d6c4dce05d97ac334bac85ce29478"
   }
  }
 },
 "nbformat": 4,
 "nbformat_minor": 2
}
