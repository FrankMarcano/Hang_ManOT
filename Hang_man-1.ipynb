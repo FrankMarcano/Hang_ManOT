{
 "cells": [
  {
   "cell_type": "code",
   "execution_count": 1,
   "metadata": {},
   "outputs": [
    {
     "name": "stdout",
     "output_type": "stream",
     "text": [
      "Hello, please tell us your name\n",
      "Welcome Frank do you want to play The Hangman?\n",
      "Your word is _ _ _ _ _  and has 5 letters\n"
     ]
    }
   ],
   "source": [
    "print(\"Hello, please tell us your name\")\n",
    "name = input(\"Enter your name\")\n",
    "\n",
    "if name.isalpha() == True and len(name) <= 25:\n",
    "    print(f\"Welcome {name} do you want to play The Hangman?\")\n",
    "\n",
    "    answer = input(\"Do you want to play de hang man Yes = 'Y' or No 'N' ?\")\n",
    "\n",
    "    if answer == \"Y\" or answer == \"y\":\n",
    "        import random\n",
    "        \n",
    "        \"\"\"En esta parte se busca una palabra al azar de una lista de \n",
    "        palabras con la finalidad de luego almacenar esa palabra para adivinarla\"\"\"\n",
    "        \n",
    "        words_to_guess = [\"Messi\", \"Gato\", \"Pelota\", \"Empanada\", \"Pizza\", \"Vinos\", \"Mendoza\"]\n",
    "        hangman_word = random.choice(words_to_guess)\n",
    "        lenght = len(hangman_word)\n",
    "        display = \"_ \"\n",
    "        letters = display * lenght\n",
    "        guessing = []\n",
    "        print(f\"Your word is {letters} and has {lenght} letters\")\n",
    "    \n",
    "        guess = input(\"Please tell a letter\")\n",
    "        guessing.append([guess])\n",
    "    \"\"\"En esta parte del codigo lo que busco es hacer las sustitucion de las letras que ya encontre\"\"\"\n",
    "        \n",
    "        if guess in hangman_word:\n",
    "            index = hangman_word.find(guess)\n",
    "            hangman_word = hangman_word[:index] + \"_\" + hangman_word[index + 1:]\n",
    "            display = display[:index] + guess + display[index + 1:]\n",
    "            print(display + \"\\n\")\n",
    "        elif guess in guessing:\n",
    "            print(\"Try another letter\")\n",
    "        else:\n",
    "            print(\"ERROR\")\n",
    "\n",
    "    elif answer == \"N\" or answer == \"n\":\n",
    "        exit()\n"
   ]
  },
  {
   "cell_type": "code",
   "execution_count": null,
   "metadata": {},
   "outputs": [],
   "source": [
    "if guess in hangman_word:\n",
    "            index = hangman_word.find(guess)\n",
    "            hangman_word = hangman_word[:index] + \"_\" + hangman_word[index + 1:]\n",
    "            display = display[:index] + guess + display[index + 1:]\n",
    "            print(display + \"\\n\")\n",
    "        elif guess in guessing:\n",
    "            print(\"Try another letter\")\n",
    "        else:\n",
    "            print(\"ERROR\")"
   ]
  }
 ],
 "metadata": {
  "kernelspec": {
   "display_name": "Python 3.10.2 64-bit",
   "language": "python",
   "name": "python3"
  },
  "language_info": {
   "codemirror_mode": {
    "name": "ipython",
    "version": 3
   },
   "file_extension": ".py",
   "mimetype": "text/x-python",
   "name": "python",
   "nbconvert_exporter": "python",
   "pygments_lexer": "ipython3",
   "version": "3.10.2"
  },
  "orig_nbformat": 4,
  "vscode": {
   "interpreter": {
    "hash": "94421b500f930f60e980ced47fff81b79d1d6c4dce05d97ac334bac85ce29478"
   }
  }
 },
 "nbformat": 4,
 "nbformat_minor": 2
}
